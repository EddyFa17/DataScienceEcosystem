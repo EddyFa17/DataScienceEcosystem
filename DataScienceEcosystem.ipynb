{
 "cells": [
  {
   "cell_type": "markdown",
   "metadata": {},
   "source": [
    "# Strumenti ed Ecosistema della Data Science"
   ]
  },
  {
   "cell_type": "markdown",
   "metadata": {},
   "source": [
    "In questo notebook vengono riassunti gli strumenti e l'ecosistema della Data Science."
   ]
  },
  {
   "cell_type": "markdown",
   "metadata": {},
   "source": [
    "Alcuni dei linguaggi più popolari usati dai Data Scientist sono:\n",
    "\n",
    "1. Python\n",
    "2. R\n",
    "3. SQL\n",
    "4. Julia\n",
    "5. Java\n"
   ]
  },
  {
   "cell_type": "markdown",
   "metadata": {},
   "source": [
    "Alcune delle librerie più utilizzate dai Data Scientist sono:\n",
    "\n",
    "1. Pandas\n",
    "2. NumPy\n",
    "3. Scikit-learn\n",
    "4. TensorFlow\n",
    "5. Matplotlib\n"
   ]
  },
  {
   "cell_type": "markdown",
   "metadata": {},
   "source": [
    "| Strumenti per la Data Science |\n",
    "|------------------------------|\n",
    "| Jupyter Notebook            |\n",
    "| RStudio                     |\n",
    "| Apache Zeppelin             |\n"
   ]
  },
  {
   "cell_type": "markdown",
   "metadata": {},
   "source": [
    "### Di seguito alcuni esempi di valutazione di espressioni aritmetiche in Python.\n"
   ]
  },
  {
   "cell_type": "code",
   "execution_count": 2,
   "metadata": {},
   "outputs": [
    {
     "data": {
      "text/plain": [
       "17"
      ]
     },
     "execution_count": 2,
     "metadata": {},
     "output_type": "execute_result"
    }
   ],
   "source": [
    "# Questa è un'espressione aritmetica semplice per moltiplicare e poi sommare interi\n",
    "(3 * 4) + 5"
   ]
  },
  {
   "cell_type": "code",
   "execution_count": 3,
   "metadata": {},
   "outputs": [
    {
     "data": {
      "text/plain": [
       "3.3333333333333335"
      ]
     },
     "execution_count": 3,
     "metadata": {},
     "output_type": "execute_result"
    }
   ],
   "source": [
    "# Questo converte 200 minuti in ore dividendo per 60\n",
    "200 / 60\n"
   ]
  },
  {
   "cell_type": "markdown",
   "metadata": {},
   "source": [
    "**Obiettivi:**\n",
    "\n",
    "- Elencare i linguaggi più usati per la Data Science\n",
    "- Identificare le librerie più utilizzate\n",
    "- Descrivere gli strumenti di sviluppo open-source per la Data Science\n",
    "- Eseguire operazioni aritmetiche di base in Python\n",
    "- Convertire unità di misura con Python\n"
   ]
  },
  {
   "cell_type": "markdown",
   "metadata": {},
   "source": [
    "## Autore\n",
    "Edoardo Fares\n"
   ]
  },
  {
   "cell_type": "markdown",
   "metadata": {},
   "source": []
  }
 ],
 "metadata": {
  "kernelspec": {
   "display_name": "Python 3",
   "language": "python",
   "name": "python3"
  },
  "language_info": {
   "codemirror_mode": {
    "name": "ipython",
    "version": 3
   },
   "file_extension": ".py",
   "mimetype": "text/x-python",
   "name": "python",
   "nbconvert_exporter": "python",
   "pygments_lexer": "ipython3",
   "version": "3.13.2"
  }
 },
 "nbformat": 4,
 "nbformat_minor": 2
}
